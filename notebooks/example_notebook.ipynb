{
 "cells": [
  {
   "cell_type": "markdown",
   "id": "a6b4383c-ce8b-4b40-83c6-d849e085363a",
   "metadata": {},
   "source": [
    "# Example - using the unofficial ONS Geoportal\n",
    "This unofficial ONS Geoportal allows users to query and retrieve geometry and attribute information from the ONS Open Geography Portal.\n",
    "\n",
    "Below is an example using ons_geoportal to retrieve the local authority of Bristol as a GeoPandas.GeoDataFrame using a SQL query."
   ]
  },
  {
   "cell_type": "code",
   "execution_count": 1,
   "id": "593a63ce-9256-4de3-8045-25e909cf0a63",
   "metadata": {},
   "outputs": [
    {
     "name": "stderr",
     "output_type": "stream",
     "text": [
      "/home/ik19962/.local/lib/python3.8/site-packages/geopandas/_compat.py:111: UserWarning: The Shapely GEOS version (3.9.1-CAPI-1.14.2) is incompatible with the GEOS version PyGEOS was compiled with (3.10.1-CAPI-1.16.0). Conversions between both will be slow.\n",
      "  warnings.warn(\n"
     ]
    }
   ],
   "source": [
    "from ons_geoportal.api import get_boundaries"
   ]
  },
  {
   "cell_type": "code",
   "execution_count": 2,
   "id": "b492031d-3b50-438c-9479-2e4d5284655e",
   "metadata": {},
   "outputs": [
    {
     "data": {
      "text/html": [
       "<div>\n",
       "<style scoped>\n",
       "    .dataframe tbody tr th:only-of-type {\n",
       "        vertical-align: middle;\n",
       "    }\n",
       "\n",
       "    .dataframe tbody tr th {\n",
       "        vertical-align: top;\n",
       "    }\n",
       "\n",
       "    .dataframe thead th {\n",
       "        text-align: right;\n",
       "    }\n",
       "</style>\n",
       "<table border=\"1\" class=\"dataframe\">\n",
       "  <thead>\n",
       "    <tr style=\"text-align: right;\">\n",
       "      <th></th>\n",
       "      <th>geometry</th>\n",
       "      <th>lad18cd</th>\n",
       "      <th>lad18nm</th>\n",
       "    </tr>\n",
       "  </thead>\n",
       "  <tbody>\n",
       "    <tr>\n",
       "      <th>0</th>\n",
       "      <td>MULTIPOLYGON (((354009.000 182110.601, 354064....</td>\n",
       "      <td>E06000023</td>\n",
       "      <td>Bristol, City of</td>\n",
       "    </tr>\n",
       "  </tbody>\n",
       "</table>\n",
       "</div>"
      ],
      "text/plain": [
       "                                            geometry    lad18cd  \\\n",
       "0  MULTIPOLYGON (((354009.000 182110.601, 354064....  E06000023   \n",
       "\n",
       "            lad18nm  \n",
       "0  Bristol, City of  "
      ]
     },
     "execution_count": 2,
     "metadata": {},
     "output_type": "execute_result"
    }
   ],
   "source": [
    "gdf = get_boundaries(\n",
    "    geom_type=\"lad\",\n",
    "    cols=[\"lad18cd\", \"lad18nm\"],\n",
    "    where=\"LAD18NM = 'Bristol, City of'\"\n",
    ")\n",
    "gdf.head()"
   ]
  },
  {
   "cell_type": "code",
   "execution_count": 3,
   "id": "00ce5bfc-1053-4849-bce6-75f7ed252eac",
   "metadata": {},
   "outputs": [
    {
     "data": {
      "text/plain": [
       "<AxesSubplot:>"
      ]
     },
     "execution_count": 3,
     "metadata": {},
     "output_type": "execute_result"
    },
    {
     "data": {
      "image/png": "[encoded data removed]",
      "text/plain": [
       "<Figure size 432x288 with 1 Axes>"
      ]
     },
     "metadata": {
      "needs_background": "light"
     },
     "output_type": "display_data"
    }
   ],
   "source": [
    "gdf.plot()"
   ]
  }
 ],
 "metadata": {
  "kernelspec": {
   "display_name": "Python 3 (ipykernel)",
   "language": "python",
   "name": "python3"
  },
  "language_info": {
   "codemirror_mode": {
    "name": "ipython",
    "version": 3
   },
   "file_extension": ".py",
   "mimetype": "text/x-python",
   "name": "python",
   "nbconvert_exporter": "python",
   "pygments_lexer": "ipython3",
   "version": "3.8.10"
  }
 },
 "nbformat": 4,
 "nbformat_minor": 5
}
